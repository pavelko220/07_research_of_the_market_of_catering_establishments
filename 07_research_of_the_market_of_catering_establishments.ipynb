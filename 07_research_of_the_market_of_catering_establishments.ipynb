{
 "cells": [
  {
   "cell_type": "markdown",
   "id": "ef126c3b",
   "metadata": {},
   "source": [
    "# Исследование рынка заведений общественного питания Москвы\n",
    "\n",
    "## 1. Краткое описание задачи\n",
    "Задача - исследовать рынок заведений общественного питания и определить целесообразность открытия робот-кафе. \n",
    "\n",
    "Описание файла rest_data:\n",
    "* id — идентификатор объекта;\n",
    "* object_name — название объекта общественного питания;\n",
    "* chain — сетевой ресторан;\n",
    "* object_type — тип объекта общественного питания;\n",
    "* address — адрес;\n",
    "* number — количество посадочных мест."
   ]
  },
  {
   "cell_type": "code",
   "execution_count": 85,
   "id": "b70a484d",
   "metadata": {},
   "outputs": [],
   "source": [
    "import pandas as pd                                             # Импортируем библиотеки\n",
    "import seaborn as sns                                           \n",
    "import math\n",
    "import matplotlib.pyplot as plt                                \n",
    "from scipy import stats as st\n",
    "import numpy as np"
   ]
  },
  {
   "cell_type": "code",
   "execution_count": 86,
   "id": "6e8906fc",
   "metadata": {},
   "outputs": [
    {
     "data": {
      "text/html": [
       "<div>\n",
       "<style scoped>\n",
       "    .dataframe tbody tr th:only-of-type {\n",
       "        vertical-align: middle;\n",
       "    }\n",
       "\n",
       "    .dataframe tbody tr th {\n",
       "        vertical-align: top;\n",
       "    }\n",
       "\n",
       "    .dataframe thead th {\n",
       "        text-align: right;\n",
       "    }\n",
       "</style>\n",
       "<table border=\"1\" class=\"dataframe\">\n",
       "  <thead>\n",
       "    <tr style=\"text-align: right;\">\n",
       "      <th></th>\n",
       "      <th>id</th>\n",
       "      <th>object_name</th>\n",
       "      <th>chain</th>\n",
       "      <th>object_type</th>\n",
       "      <th>address</th>\n",
       "      <th>number</th>\n",
       "    </tr>\n",
       "  </thead>\n",
       "  <tbody>\n",
       "    <tr>\n",
       "      <th>0</th>\n",
       "      <td>151635</td>\n",
       "      <td>СМЕТАНА</td>\n",
       "      <td>нет</td>\n",
       "      <td>кафе</td>\n",
       "      <td>город Москва, улица Егора Абакумова, дом 9</td>\n",
       "      <td>48</td>\n",
       "    </tr>\n",
       "    <tr>\n",
       "      <th>1</th>\n",
       "      <td>77874</td>\n",
       "      <td>Родник</td>\n",
       "      <td>нет</td>\n",
       "      <td>кафе</td>\n",
       "      <td>город Москва, улица Талалихина, дом 2/1, корпус 1</td>\n",
       "      <td>35</td>\n",
       "    </tr>\n",
       "    <tr>\n",
       "      <th>2</th>\n",
       "      <td>24309</td>\n",
       "      <td>Кафе «Академия»</td>\n",
       "      <td>нет</td>\n",
       "      <td>кафе</td>\n",
       "      <td>город Москва, Абельмановская улица, дом 6</td>\n",
       "      <td>95</td>\n",
       "    </tr>\n",
       "    <tr>\n",
       "      <th>3</th>\n",
       "      <td>21894</td>\n",
       "      <td>ПИЦЦЕТОРИЯ</td>\n",
       "      <td>да</td>\n",
       "      <td>кафе</td>\n",
       "      <td>город Москва, Абрамцевская улица, дом 1</td>\n",
       "      <td>40</td>\n",
       "    </tr>\n",
       "    <tr>\n",
       "      <th>4</th>\n",
       "      <td>119365</td>\n",
       "      <td>Кафе «Вишневая метель»</td>\n",
       "      <td>нет</td>\n",
       "      <td>кафе</td>\n",
       "      <td>город Москва, Абрамцевская улица, дом 9, корпус 1</td>\n",
       "      <td>50</td>\n",
       "    </tr>\n",
       "  </tbody>\n",
       "</table>\n",
       "</div>"
      ],
      "text/plain": [
       "       id             object_name chain object_type  \\\n",
       "0  151635                 СМЕТАНА   нет        кафе   \n",
       "1   77874                  Родник   нет        кафе   \n",
       "2   24309         Кафе «Академия»   нет        кафе   \n",
       "3   21894              ПИЦЦЕТОРИЯ    да        кафе   \n",
       "4  119365  Кафе «Вишневая метель»   нет        кафе   \n",
       "\n",
       "                                             address  number  \n",
       "0         город Москва, улица Егора Абакумова, дом 9      48  \n",
       "1  город Москва, улица Талалихина, дом 2/1, корпус 1      35  \n",
       "2          город Москва, Абельмановская улица, дом 6      95  \n",
       "3            город Москва, Абрамцевская улица, дом 1      40  \n",
       "4  город Москва, Абрамцевская улица, дом 9, корпус 1      50  "
      ]
     },
     "metadata": {},
     "output_type": "display_data"
    }
   ],
   "source": [
    "display(pd.read_csv('https://code.s3.yandex.net/datasets/rest_data.csv',nrows = 5).head())         # Выведем на экран первые 5 строк "
   ]
  },
  {
   "cell_type": "markdown",
   "id": "f9973e7c",
   "metadata": {},
   "source": [
    "Проверив файлы, приходим к выводу, что файл корректно считался, коррекция разделителя столбцов не требуется."
   ]
  },
  {
   "cell_type": "code",
   "execution_count": 87,
   "id": "3cc148a4",
   "metadata": {},
   "outputs": [],
   "source": [
    "rest_data = pd.read_csv('https://code.s3.yandex.net/datasets/rest_data.csv')                       # Считаем файлы"
   ]
  },
  {
   "cell_type": "code",
   "execution_count": 88,
   "id": "f30b29ca",
   "metadata": {},
   "outputs": [
    {
     "name": "stdout",
     "output_type": "stream",
     "text": [
      "<class 'pandas.core.frame.DataFrame'>\n",
      "RangeIndex: 15366 entries, 0 to 15365\n",
      "Data columns (total 6 columns):\n",
      " #   Column       Non-Null Count  Dtype \n",
      "---  ------       --------------  ----- \n",
      " 0   id           15366 non-null  int64 \n",
      " 1   object_name  15366 non-null  object\n",
      " 2   chain        15366 non-null  object\n",
      " 3   object_type  15366 non-null  object\n",
      " 4   address      15366 non-null  object\n",
      " 5   number       15366 non-null  int64 \n",
      "dtypes: int64(2), object(4)\n",
      "memory usage: 720.4+ KB\n",
      "    Дубликатов, шт: 0\n",
      "    Дубликатов по столбцу id, шт: 0\n",
      "    Пропусков по столбцам:\n"
     ]
    },
    {
     "data": {
      "text/plain": [
       "id             0\n",
       "object_name    0\n",
       "chain          0\n",
       "object_type    0\n",
       "address        0\n",
       "number         0\n",
       "dtype: int64"
      ]
     },
     "metadata": {},
     "output_type": "display_data"
    }
   ],
   "source": [
    "rest_data.info()                                                            # Выведем общую информацию\n",
    "print('    Дубликатов, шт:',rest_data.duplicated().sum())                   # Выведем кол-во дубликатов\n",
    "print('    Дубликатов по столбцу id, шт:',rest_data['id'].duplicated().sum()) # Выведем кол-во дубликатов\n",
    "print('    Пропусков по столбцам:')\n",
    "display(rest_data.isna().sum())                                             # подсчёт пропусков\n",
    "#print('    Вывод статистической информации:')\n",
    "#round(rest_data.describe(),2)                                             # Выведем на экран статистическую информацию"
   ]
  },
  {
   "cell_type": "markdown",
   "id": "1f671d69",
   "metadata": {},
   "source": [
    "Промежуточный вывод: по данным отображенной информации, данные не нуждаются в предобработке."
   ]
  },
  {
   "cell_type": "markdown",
   "id": "115502c0",
   "metadata": {},
   "source": [
    "### 1.1. Проверка на неявные дубликаты"
   ]
  },
  {
   "cell_type": "markdown",
   "id": "963a3aaa",
   "metadata": {},
   "source": [
    "Определим количество неявных дубликатов по всем столбцам, кроме id и количества мест (примем, что не в одном здании не могут находится два заведения общественного питания с одинаковым названием)"
   ]
  },
  {
   "cell_type": "code",
   "execution_count": 89,
   "id": "ee401319",
   "metadata": {},
   "outputs": [
    {
     "name": "stdout",
     "output_type": "stream",
     "text": [
      "Дубликатов: 170\n"
     ]
    }
   ],
   "source": [
    "subset_columns=['object_name', 'chain', 'object_type', 'address'] # список ключевых столбцов\n",
    "print('Дубликатов:', rest_data.duplicated(subset=subset_columns).sum())"
   ]
  },
  {
   "cell_type": "code",
   "execution_count": 90,
   "id": "820c6cda",
   "metadata": {},
   "outputs": [
    {
     "name": "stdout",
     "output_type": "stream",
     "text": [
      "Дубликатов: 0\n"
     ]
    }
   ],
   "source": [
    "rest_data = rest_data.drop_duplicates(subset=subset_columns)\n",
    "print('Дубликатов:', rest_data.duplicated(subset=subset_columns).sum())   # проверка"
   ]
  },
  {
   "cell_type": "markdown",
   "id": "baf6bcba",
   "metadata": {},
   "source": [
    "Представляется, что наличие неявных дубликатов (искаженных наименований) по столбцу с типом объектов общественного питания может негативно повлиять на итоги исследования. Проверим их наличие:"
   ]
  },
  {
   "cell_type": "code",
   "execution_count": 91,
   "id": "510bfd37",
   "metadata": {},
   "outputs": [
    {
     "data": {
      "text/plain": [
       "кафе                                 6017\n",
       "столовая                             2575\n",
       "ресторан                             2276\n",
       "предприятие быстрого обслуживания    1891\n",
       "бар                                   853\n",
       "буфет                                 571\n",
       "кафетерий                             393\n",
       "закусочная                            348\n",
       "магазин (отдел кулинарии)             272\n",
       "Name: object_type, dtype: int64"
      ]
     },
     "metadata": {},
     "output_type": "display_data"
    },
    {
     "data": {
      "text/plain": [
       "нет    12245\n",
       "да      2951\n",
       "Name: chain, dtype: int64"
      ]
     },
     "metadata": {},
     "output_type": "display_data"
    }
   ],
   "source": [
    "# При помощи метода .value_counts() возвратим перечень уникальных значений и их кол-во\n",
    "display(rest_data['object_type'].value_counts())\n",
    "display(rest_data['chain'].value_counts())"
   ]
  },
  {
   "cell_type": "markdown",
   "id": "cfd2035a",
   "metadata": {},
   "source": [
    "Промежуточный вывод: похожих наименований (с ошибках) не выявлено. \n",
    "\n",
    "Для дальнейшего компактного построения графиков, наименование заведений \"предприятие быстрого обслуживания\" и \"магазин (кулинария)\" заменим на более краткие синонимы - фастфуд и кулинария:"
   ]
  },
  {
   "cell_type": "code",
   "execution_count": 92,
   "id": "7de9a3e1",
   "metadata": {},
   "outputs": [
    {
     "data": {
      "text/plain": [
       "кафе          6017\n",
       "столовая      2575\n",
       "ресторан      2276\n",
       "фастфуд       1891\n",
       "бар            853\n",
       "буфет          571\n",
       "кафетерий      393\n",
       "закусочная     348\n",
       "кулинария      272\n",
       "Name: object_type, dtype: int64"
      ]
     },
     "metadata": {},
     "output_type": "display_data"
    }
   ],
   "source": [
    "rest_data['object_type'] = rest_data['object_type'].replace('предприятие быстрого обслуживания','фастфуд')\n",
    "rest_data['object_type'] = rest_data['object_type'].replace('магазин (отдел кулинарии)','кулинария')\n",
    "display(rest_data['object_type'].value_counts())"
   ]
  },
  {
   "cell_type": "markdown",
   "id": "91c5d448",
   "metadata": {},
   "source": [
    "Промежуточный вывод: выявленные неявные дубликаты, удалены. Можно приступать к анализу."
   ]
  },
  {
   "cell_type": "markdown",
   "id": "17864c71",
   "metadata": {},
   "source": [
    "## 2. АНАЛИЗ"
   ]
  },
  {
   "cell_type": "markdown",
   "id": "b13d90d5",
   "metadata": {},
   "source": [
    "### 2.1. Соотношение видов объектов общественного питания по количеству"
   ]
  },
  {
   "cell_type": "code",
   "execution_count": 93,
   "id": "5d2dcad9",
   "metadata": {},
   "outputs": [],
   "source": [
    "df_type = rest_data.groupby('object_type').agg({'object_type':'count'})\n",
    "df_type.columns=['Количество']\n",
    "df_type=df_type.sort_values(by='Количество',ascending=False)\n"
   ]
  },
  {
   "cell_type": "code",
   "execution_count": 94,
   "id": "1ac40f2c",
   "metadata": {},
   "outputs": [
    {
     "data": {
      "image/png": "[encoded data removed]",
      "text/plain": [
       "<Figure size 576x360 with 1 Axes>"
      ]
     },
     "metadata": {},
     "output_type": "display_data"
    }
   ],
   "source": [
    "df_type_ = df_type.reset_index()\n",
    "df_type_.columns=['Тип','Количество']\n",
    "df_type_['Количество'] = round(df_type_['Количество']/sum(df_type_['Количество'])*100,2)\n",
    "\n",
    "sns.set(rc = {'figure.figsize':(8,5)})\n",
    "test = sns.barplot(y='Тип',x='Количество',data = df_type_)\n",
    "test.set_title('Доля заведений по типам')\n",
    "test.set_ylabel('Тип заведения')\n",
    "test.set_xlabel('Количество процентов')\n",
    "plt.show()"
   ]
  },
  {
   "cell_type": "markdown",
   "id": "f15a0e1b",
   "metadata": {},
   "source": [
    "Промежуточный вывод: график с соотношением количества заведений по их типам заведений общественного питания построен. По типу приеобладают кафе и столовые."
   ]
  },
  {
   "cell_type": "markdown",
   "id": "87d6ec1b",
   "metadata": {},
   "source": [
    "### 2.2. Соотношение сетевых и несетевых объектов общественного питания"
   ]
  },
  {
   "cell_type": "code",
   "execution_count": 95,
   "id": "457c8e21",
   "metadata": {},
   "outputs": [
    {
     "data": {
      "image/png": "[encoded data removed]",
      "text/plain": [
       "<Figure size 576x576 with 1 Axes>"
      ]
     },
     "metadata": {},
     "output_type": "display_data"
    }
   ],
   "source": [
    "df_chain_store = rest_data.groupby('chain').agg({'chain':'count'})\n",
    "df_chain_store.columns=['Количество']\n",
    "df_chain_store=df_chain_store.sort_values(by='Количество',ascending=False)\n",
    "df_chain_store['Количество'].plot(title='Доля сетевых и несетевых заведений',kind='pie', figsize=(8,8),autopct='%.0f%%')\n",
    "plt.ylabel('')\n",
    "plt.show()"
   ]
  },
  {
   "cell_type": "markdown",
   "id": "49549a35",
   "metadata": {},
   "source": [
    "Промежуточный вывод: круговой график с долей сетевых и несетевых заведений построен. Доля сетевых заведений составляет 19% от общего количества."
   ]
  },
  {
   "cell_type": "markdown",
   "id": "69616a76",
   "metadata": {},
   "source": [
    "### 2.3. Типы объектов общепита с сетевым распрастранением"
   ]
  },
  {
   "cell_type": "code",
   "execution_count": 96,
   "id": "e0c529f9",
   "metadata": {},
   "outputs": [
    {
     "data": {
      "text/html": [
       "<div>\n",
       "<style scoped>\n",
       "    .dataframe tbody tr th:only-of-type {\n",
       "        vertical-align: middle;\n",
       "    }\n",
       "\n",
       "    .dataframe tbody tr th {\n",
       "        vertical-align: top;\n",
       "    }\n",
       "\n",
       "    .dataframe thead th {\n",
       "        text-align: right;\n",
       "    }\n",
       "</style>\n",
       "<table border=\"1\" class=\"dataframe\">\n",
       "  <thead>\n",
       "    <tr style=\"text-align: right;\">\n",
       "      <th></th>\n",
       "      <th>Количество</th>\n",
       "      <th>в т.ч. сетевые</th>\n",
       "      <th>%</th>\n",
       "    </tr>\n",
       "    <tr>\n",
       "      <th>object_type</th>\n",
       "      <th></th>\n",
       "      <th></th>\n",
       "      <th></th>\n",
       "    </tr>\n",
       "  </thead>\n",
       "  <tbody>\n",
       "    <tr>\n",
       "      <th>фастфуд</th>\n",
       "      <td>1891</td>\n",
       "      <td>784</td>\n",
       "      <td>41.46</td>\n",
       "    </tr>\n",
       "    <tr>\n",
       "      <th>кулинария</th>\n",
       "      <td>272</td>\n",
       "      <td>78</td>\n",
       "      <td>28.68</td>\n",
       "    </tr>\n",
       "    <tr>\n",
       "      <th>ресторан</th>\n",
       "      <td>2276</td>\n",
       "      <td>542</td>\n",
       "      <td>23.81</td>\n",
       "    </tr>\n",
       "    <tr>\n",
       "      <th>кафе</th>\n",
       "      <td>6017</td>\n",
       "      <td>1389</td>\n",
       "      <td>23.08</td>\n",
       "    </tr>\n",
       "    <tr>\n",
       "      <th>закусочная</th>\n",
       "      <td>348</td>\n",
       "      <td>56</td>\n",
       "      <td>16.09</td>\n",
       "    </tr>\n",
       "    <tr>\n",
       "      <th>кафетерий</th>\n",
       "      <td>393</td>\n",
       "      <td>51</td>\n",
       "      <td>12.98</td>\n",
       "    </tr>\n",
       "    <tr>\n",
       "      <th>бар</th>\n",
       "      <td>853</td>\n",
       "      <td>37</td>\n",
       "      <td>4.34</td>\n",
       "    </tr>\n",
       "    <tr>\n",
       "      <th>буфет</th>\n",
       "      <td>571</td>\n",
       "      <td>11</td>\n",
       "      <td>1.93</td>\n",
       "    </tr>\n",
       "    <tr>\n",
       "      <th>столовая</th>\n",
       "      <td>2575</td>\n",
       "      <td>3</td>\n",
       "      <td>0.12</td>\n",
       "    </tr>\n",
       "  </tbody>\n",
       "</table>\n",
       "</div>"
      ],
      "text/plain": [
       "             Количество  в т.ч. сетевые      %\n",
       "object_type                                   \n",
       "фастфуд            1891             784  41.46\n",
       "кулинария           272              78  28.68\n",
       "ресторан           2276             542  23.81\n",
       "кафе               6017            1389  23.08\n",
       "закусочная          348              56  16.09\n",
       "кафетерий           393              51  12.98\n",
       "бар                 853              37   4.34\n",
       "буфет               571              11   1.93\n",
       "столовая           2575               3   0.12"
      ]
     },
     "execution_count": 96,
     "metadata": {},
     "output_type": "execute_result"
    }
   ],
   "source": [
    "df_chain_type = rest_data[rest_data['chain']=='да']\n",
    "df_chain_type = df_chain_type.groupby('object_type').agg({'object_type':'count'})\n",
    "df_chain_type.columns=['в т.ч. сетевые']\n",
    "df_chain_type=df_type.join(df_chain_type)\n",
    "df_chain_type['%'] = round(df_chain_type['в т.ч. сетевые']/df_chain_type['Количество']*100,2)\n",
    "df_chain_type=df_chain_type.sort_values(by='%',ascending=False)\n",
    "df_chain_type"
   ]
  },
  {
   "cell_type": "markdown",
   "id": "9f20e6d6",
   "metadata": {},
   "source": [
    "Промежуточный вывод: построена таблица с величиной сетевых заведений. В Топ-3 попали такие заведения, как предприятия быстрого обслуживания (41,46% из них сетевые), кулинарии (28,68%) и рестораны (23,81 %)."
   ]
  },
  {
   "cell_type": "markdown",
   "id": "f0158387",
   "metadata": {},
   "source": [
    "### 2.4. Характерное количество мест и количество сетевых заведений"
   ]
  },
  {
   "cell_type": "code",
   "execution_count": 97,
   "id": "fae99867",
   "metadata": {},
   "outputs": [
    {
     "data": {
      "text/html": [
       "<div>\n",
       "<style scoped>\n",
       "    .dataframe tbody tr th:only-of-type {\n",
       "        vertical-align: middle;\n",
       "    }\n",
       "\n",
       "    .dataframe tbody tr th {\n",
       "        vertical-align: top;\n",
       "    }\n",
       "\n",
       "    .dataframe thead th {\n",
       "        text-align: right;\n",
       "    }\n",
       "</style>\n",
       "<table border=\"1\" class=\"dataframe\">\n",
       "  <thead>\n",
       "    <tr style=\"text-align: right;\">\n",
       "      <th></th>\n",
       "      <th>кол-во заведений</th>\n",
       "      <th>мест в среднем</th>\n",
       "    </tr>\n",
       "    <tr>\n",
       "      <th>object_name</th>\n",
       "      <th></th>\n",
       "      <th></th>\n",
       "    </tr>\n",
       "  </thead>\n",
       "  <tbody>\n",
       "    <tr>\n",
       "      <th>KFC</th>\n",
       "      <td>155</td>\n",
       "      <td>55.341935</td>\n",
       "    </tr>\n",
       "    <tr>\n",
       "      <th>Шоколадница</th>\n",
       "      <td>139</td>\n",
       "      <td>56.762590</td>\n",
       "    </tr>\n",
       "    <tr>\n",
       "      <th>Бургер Кинг</th>\n",
       "      <td>121</td>\n",
       "      <td>45.272727</td>\n",
       "    </tr>\n",
       "    <tr>\n",
       "      <th>Макдоналдс</th>\n",
       "      <td>119</td>\n",
       "      <td>82.924370</td>\n",
       "    </tr>\n",
       "    <tr>\n",
       "      <th>Домино'с Пицца</th>\n",
       "      <td>86</td>\n",
       "      <td>18.209302</td>\n",
       "    </tr>\n",
       "    <tr>\n",
       "      <th>Теремок</th>\n",
       "      <td>84</td>\n",
       "      <td>25.047619</td>\n",
       "    </tr>\n",
       "    <tr>\n",
       "      <th>Крошка Картошка</th>\n",
       "      <td>82</td>\n",
       "      <td>22.963415</td>\n",
       "    </tr>\n",
       "    <tr>\n",
       "      <th>Милти</th>\n",
       "      <td>65</td>\n",
       "      <td>1.430769</td>\n",
       "    </tr>\n",
       "    <tr>\n",
       "      <th>Суши Wok</th>\n",
       "      <td>61</td>\n",
       "      <td>7.131148</td>\n",
       "    </tr>\n",
       "    <tr>\n",
       "      <th>Папа Джонс</th>\n",
       "      <td>50</td>\n",
       "      <td>22.160000</td>\n",
       "    </tr>\n",
       "  </tbody>\n",
       "</table>\n",
       "</div>"
      ],
      "text/plain": [
       "                 кол-во заведений  мест в среднем\n",
       "object_name                                      \n",
       "KFC                           155       55.341935\n",
       "Шоколадница                   139       56.762590\n",
       "Бургер Кинг                   121       45.272727\n",
       "Макдоналдс                    119       82.924370\n",
       "Домино'с Пицца                 86       18.209302\n",
       "Теремок                        84       25.047619\n",
       "Крошка Картошка                82       22.963415\n",
       "Милти                          65        1.430769\n",
       "Суши Wok                       61        7.131148\n",
       "Папа Джонс                     50       22.160000"
      ]
     },
     "metadata": {},
     "output_type": "display_data"
    },
    {
     "data": {
      "image/png": "[encoded data removed]",
      "text/plain": [
       "<Figure size 576x360 with 1 Axes>"
      ]
     },
     "metadata": {},
     "output_type": "display_data"
    }
   ],
   "source": [
    "df_chain_number_yes = rest_data[rest_data['chain']=='да']\n",
    "df_chain_number_yes = df_chain_number_yes.groupby('object_name').agg({'number':['count','mean']})\n",
    "df_chain_number_yes.columns=['кол-во заведений','мест в среднем']\n",
    "df_chain_number_yes = df_chain_number_yes.sort_values(by='кол-во заведений',ascending=False)\n",
    "display(df_chain_number_yes.head(10))\n",
    "\n",
    "#plt.figure(figsize=(6, 7))\n",
    "sns.scatterplot(x= 'кол-во заведений', y= 'мест в среднем', data = df_chain_number_yes)\n",
    "plt.show()"
   ]
  },
  {
   "cell_type": "markdown",
   "id": "a4c82558",
   "metadata": {},
   "source": [
    "Промежуточный вывод: по точечному графику видно, что сети общественного питания с большим количеством заведений (более 50 шт), то есть получившие распространение и, вероятно, имеющие успех, имеют посадочных мест в среднем до 60 единиц.\n",
    "Заведения общественного питания, заявленные как сетевые, с количеством посадочных мест более 150, как правило, не получили большого распространения (1,2, редко 5 заведений, но не более 10)."
   ]
  },
  {
   "cell_type": "markdown",
   "id": "32db7030",
   "metadata": {},
   "source": [
    "### 2.5. Среденее количество посадочных мест по видам заведений"
   ]
  },
  {
   "cell_type": "code",
   "execution_count": 98,
   "id": "7694ae09",
   "metadata": {},
   "outputs": [
    {
     "data": {
      "image/png": "[encoded data removed]",
      "text/plain": [
       "<Figure size 576x360 with 1 Axes>"
      ]
     },
     "metadata": {},
     "output_type": "display_data"
    }
   ],
   "source": [
    "df_count = rest_data.groupby('object_type').agg({'number':'mean'}).sort_values(by='number',ascending=False)\n",
    "df_count = round(df_count,2)\n",
    "df_count\n",
    "df_count.plot(kind='barh',grid=True,title='Среднее количество мест в заведениях',figsize=(8,5), legend=False)\n",
    "plt.ylabel('Тип заведений')\n",
    "plt.xlabel('Среднее количество мест')\n",
    "plt.show()"
   ]
  },
  {
   "cell_type": "markdown",
   "id": "fd5f9cb7",
   "metadata": {},
   "source": [
    "Промежуточный вывод: график с указанием среднего количества мест в заведениях построен. Лидируют столовые и рестораны."
   ]
  },
  {
   "cell_type": "markdown",
   "id": "93c3a31f",
   "metadata": {},
   "source": [
    "### 2.6. Выделение в отдельный столбец информации об улицах из столбца adress"
   ]
  },
  {
   "cell_type": "code",
   "execution_count": 99,
   "id": "600a5c88",
   "metadata": {},
   "outputs": [
    {
     "data": {
      "text/html": [
       "<div>\n",
       "<style scoped>\n",
       "    .dataframe tbody tr th:only-of-type {\n",
       "        vertical-align: middle;\n",
       "    }\n",
       "\n",
       "    .dataframe tbody tr th {\n",
       "        vertical-align: top;\n",
       "    }\n",
       "\n",
       "    .dataframe thead th {\n",
       "        text-align: right;\n",
       "    }\n",
       "</style>\n",
       "<table border=\"1\" class=\"dataframe\">\n",
       "  <thead>\n",
       "    <tr style=\"text-align: right;\">\n",
       "      <th></th>\n",
       "      <th>id</th>\n",
       "      <th>object_name</th>\n",
       "      <th>chain</th>\n",
       "      <th>object_type</th>\n",
       "      <th>address</th>\n",
       "      <th>number</th>\n",
       "      <th>street</th>\n",
       "    </tr>\n",
       "  </thead>\n",
       "  <tbody>\n",
       "    <tr>\n",
       "      <th>0</th>\n",
       "      <td>151635</td>\n",
       "      <td>СМЕТАНА</td>\n",
       "      <td>нет</td>\n",
       "      <td>кафе</td>\n",
       "      <td>город Москва, улица Егора Абакумова, дом 9</td>\n",
       "      <td>48</td>\n",
       "      <td>улица Егора Абакумова</td>\n",
       "    </tr>\n",
       "    <tr>\n",
       "      <th>1</th>\n",
       "      <td>77874</td>\n",
       "      <td>Родник</td>\n",
       "      <td>нет</td>\n",
       "      <td>кафе</td>\n",
       "      <td>город Москва, улица Талалихина, дом 2/1, корпус 1</td>\n",
       "      <td>35</td>\n",
       "      <td>улица Талалихина</td>\n",
       "    </tr>\n",
       "    <tr>\n",
       "      <th>2</th>\n",
       "      <td>24309</td>\n",
       "      <td>Кафе «Академия»</td>\n",
       "      <td>нет</td>\n",
       "      <td>кафе</td>\n",
       "      <td>город Москва, Абельмановская улица, дом 6</td>\n",
       "      <td>95</td>\n",
       "      <td>Абельмановская улица</td>\n",
       "    </tr>\n",
       "    <tr>\n",
       "      <th>3</th>\n",
       "      <td>21894</td>\n",
       "      <td>ПИЦЦЕТОРИЯ</td>\n",
       "      <td>да</td>\n",
       "      <td>кафе</td>\n",
       "      <td>город Москва, Абрамцевская улица, дом 1</td>\n",
       "      <td>40</td>\n",
       "      <td>Абрамцевская улица</td>\n",
       "    </tr>\n",
       "    <tr>\n",
       "      <th>4</th>\n",
       "      <td>119365</td>\n",
       "      <td>Кафе «Вишневая метель»</td>\n",
       "      <td>нет</td>\n",
       "      <td>кафе</td>\n",
       "      <td>город Москва, Абрамцевская улица, дом 9, корпус 1</td>\n",
       "      <td>50</td>\n",
       "      <td>Абрамцевская улица</td>\n",
       "    </tr>\n",
       "  </tbody>\n",
       "</table>\n",
       "</div>"
      ],
      "text/plain": [
       "       id             object_name chain object_type  \\\n",
       "0  151635                 СМЕТАНА   нет        кафе   \n",
       "1   77874                  Родник   нет        кафе   \n",
       "2   24309         Кафе «Академия»   нет        кафе   \n",
       "3   21894              ПИЦЦЕТОРИЯ    да        кафе   \n",
       "4  119365  Кафе «Вишневая метель»   нет        кафе   \n",
       "\n",
       "                                             address  number  \\\n",
       "0         город Москва, улица Егора Абакумова, дом 9      48   \n",
       "1  город Москва, улица Талалихина, дом 2/1, корпус 1      35   \n",
       "2          город Москва, Абельмановская улица, дом 6      95   \n",
       "3            город Москва, Абрамцевская улица, дом 1      40   \n",
       "4  город Москва, Абрамцевская улица, дом 9, корпус 1      50   \n",
       "\n",
       "                  street  \n",
       "0  улица Егора Абакумова  \n",
       "1       улица Талалихина  \n",
       "2   Абельмановская улица  \n",
       "3     Абрамцевская улица  \n",
       "4     Абрамцевская улица  "
      ]
     },
     "execution_count": 99,
     "metadata": {},
     "output_type": "execute_result"
    }
   ],
   "source": [
    "def street(address):                                     # Создадим функцию, которая\n",
    "    if address[0:14] == 'город Москва, ':                # если строка начинается с \"город Москва, \" (для большинства строк)\n",
    "        address = address[14:]                           # вырежет эти символы, и затем \n",
    "    address = address[:address.find(',')]                # обрежет хвост после запятой\n",
    "    return address\n",
    "rest_data['street'] = rest_data['address'].apply(street)\n",
    "rest_data.head()"
   ]
  },
  {
   "cell_type": "markdown",
   "id": "f8c65748",
   "metadata": {},
   "source": [
    "Промежуточный вывод: наименование улицы добавлено в столбец \"street\"\n"
   ]
  },
  {
   "cell_type": "markdown",
   "id": "a99a1165",
   "metadata": {},
   "source": [
    "### 2.7. Добавление района по названию улицы"
   ]
  },
  {
   "cell_type": "markdown",
   "id": "1e6177fa",
   "metadata": {},
   "source": [
    "Выведем на экран первые строки, чтобы убедится в правильности формата найденного файла:"
   ]
  },
  {
   "cell_type": "code",
   "execution_count": 100,
   "id": "f9a72e41",
   "metadata": {},
   "outputs": [
    {
     "data": {
      "text/html": [
       "<div>\n",
       "<style scoped>\n",
       "    .dataframe tbody tr th:only-of-type {\n",
       "        vertical-align: middle;\n",
       "    }\n",
       "\n",
       "    .dataframe tbody tr th {\n",
       "        vertical-align: top;\n",
       "    }\n",
       "\n",
       "    .dataframe thead th {\n",
       "        text-align: right;\n",
       "    }\n",
       "</style>\n",
       "<table border=\"1\" class=\"dataframe\">\n",
       "  <thead>\n",
       "    <tr style=\"text-align: right;\">\n",
       "      <th></th>\n",
       "      <th>streetname</th>\n",
       "      <th>areaid</th>\n",
       "      <th>okrug</th>\n",
       "      <th>area</th>\n",
       "    </tr>\n",
       "  </thead>\n",
       "  <tbody>\n",
       "    <tr>\n",
       "      <th>0</th>\n",
       "      <td>Выставочный переулок</td>\n",
       "      <td>17</td>\n",
       "      <td>ЦАО</td>\n",
       "      <td>Пресненский район</td>\n",
       "    </tr>\n",
       "    <tr>\n",
       "      <th>1</th>\n",
       "      <td>улица Гашека</td>\n",
       "      <td>17</td>\n",
       "      <td>ЦАО</td>\n",
       "      <td>Пресненский район</td>\n",
       "    </tr>\n",
       "    <tr>\n",
       "      <th>2</th>\n",
       "      <td>Большая Никитская улица</td>\n",
       "      <td>17</td>\n",
       "      <td>ЦАО</td>\n",
       "      <td>Пресненский район</td>\n",
       "    </tr>\n",
       "    <tr>\n",
       "      <th>3</th>\n",
       "      <td>Глубокий переулок</td>\n",
       "      <td>17</td>\n",
       "      <td>ЦАО</td>\n",
       "      <td>Пресненский район</td>\n",
       "    </tr>\n",
       "    <tr>\n",
       "      <th>4</th>\n",
       "      <td>Большой Гнездниковский переулок</td>\n",
       "      <td>17</td>\n",
       "      <td>ЦАО</td>\n",
       "      <td>Пресненский район</td>\n",
       "    </tr>\n",
       "  </tbody>\n",
       "</table>\n",
       "</div>"
      ],
      "text/plain": [
       "                        streetname  areaid okrug               area\n",
       "0             Выставочный переулок      17   ЦАО  Пресненский район\n",
       "1                     улица Гашека      17   ЦАО  Пресненский район\n",
       "2          Большая Никитская улица      17   ЦАО  Пресненский район\n",
       "3                Глубокий переулок      17   ЦАО  Пресненский район\n",
       "4  Большой Гнездниковский переулок      17   ЦАО  Пресненский район"
      ]
     },
     "execution_count": 100,
     "metadata": {},
     "output_type": "execute_result"
    }
   ],
   "source": [
    "pd.read_csv('http://94.103.87.149/files/mosgaz-streets.csv',nrows = 5).head()"
   ]
  },
  {
   "cell_type": "code",
   "execution_count": 101,
   "id": "0a5e33b7",
   "metadata": {},
   "outputs": [
    {
     "data": {
      "text/html": [
       "<div>\n",
       "<style scoped>\n",
       "    .dataframe tbody tr th:only-of-type {\n",
       "        vertical-align: middle;\n",
       "    }\n",
       "\n",
       "    .dataframe tbody tr th {\n",
       "        vertical-align: top;\n",
       "    }\n",
       "\n",
       "    .dataframe thead th {\n",
       "        text-align: right;\n",
       "    }\n",
       "</style>\n",
       "<table border=\"1\" class=\"dataframe\">\n",
       "  <thead>\n",
       "    <tr style=\"text-align: right;\">\n",
       "      <th></th>\n",
       "      <th>street</th>\n",
       "      <th>area</th>\n",
       "    </tr>\n",
       "  </thead>\n",
       "  <tbody>\n",
       "    <tr>\n",
       "      <th>0</th>\n",
       "      <td>Выставочный переулок</td>\n",
       "      <td>Пресненский район</td>\n",
       "    </tr>\n",
       "    <tr>\n",
       "      <th>1</th>\n",
       "      <td>улица Гашека</td>\n",
       "      <td>Пресненский район</td>\n",
       "    </tr>\n",
       "    <tr>\n",
       "      <th>2</th>\n",
       "      <td>Большая Никитская улица</td>\n",
       "      <td>Пресненский район</td>\n",
       "    </tr>\n",
       "    <tr>\n",
       "      <th>3</th>\n",
       "      <td>Глубокий переулок</td>\n",
       "      <td>Пресненский район</td>\n",
       "    </tr>\n",
       "    <tr>\n",
       "      <th>4</th>\n",
       "      <td>Большой Гнездниковский переулок</td>\n",
       "      <td>Пресненский район</td>\n",
       "    </tr>\n",
       "  </tbody>\n",
       "</table>\n",
       "</div>"
      ],
      "text/plain": [
       "                            street               area\n",
       "0             Выставочный переулок  Пресненский район\n",
       "1                     улица Гашека  Пресненский район\n",
       "2          Большая Никитская улица  Пресненский район\n",
       "3                Глубокий переулок  Пресненский район\n",
       "4  Большой Гнездниковский переулок  Пресненский район"
      ]
     },
     "execution_count": 101,
     "metadata": {},
     "output_type": "execute_result"
    }
   ],
   "source": [
    "street_data = pd.read_csv('http://94.103.87.149/files/mosgaz-streets.csv')\n",
    "street_data = street_data[['streetname','area']]\n",
    "street_data.columns=['street','area']\n",
    "street_data.head()"
   ]
  },
  {
   "cell_type": "markdown",
   "id": "2021af01",
   "metadata": {},
   "source": [
    "Добавим наименование района к первому датафрейму:"
   ]
  },
  {
   "cell_type": "code",
   "execution_count": 102,
   "id": "645bb31a",
   "metadata": {},
   "outputs": [
    {
     "data": {
      "text/html": [
       "<div>\n",
       "<style scoped>\n",
       "    .dataframe tbody tr th:only-of-type {\n",
       "        vertical-align: middle;\n",
       "    }\n",
       "\n",
       "    .dataframe tbody tr th {\n",
       "        vertical-align: top;\n",
       "    }\n",
       "\n",
       "    .dataframe thead th {\n",
       "        text-align: right;\n",
       "    }\n",
       "</style>\n",
       "<table border=\"1\" class=\"dataframe\">\n",
       "  <thead>\n",
       "    <tr style=\"text-align: right;\">\n",
       "      <th></th>\n",
       "      <th>id</th>\n",
       "      <th>object_name</th>\n",
       "      <th>chain</th>\n",
       "      <th>object_type</th>\n",
       "      <th>address</th>\n",
       "      <th>number</th>\n",
       "      <th>street</th>\n",
       "      <th>area</th>\n",
       "    </tr>\n",
       "  </thead>\n",
       "  <tbody>\n",
       "    <tr>\n",
       "      <th>0</th>\n",
       "      <td>151635</td>\n",
       "      <td>СМЕТАНА</td>\n",
       "      <td>нет</td>\n",
       "      <td>кафе</td>\n",
       "      <td>город Москва, улица Егора Абакумова, дом 9</td>\n",
       "      <td>48</td>\n",
       "      <td>улица Егора Абакумова</td>\n",
       "      <td>Ярославский Район</td>\n",
       "    </tr>\n",
       "    <tr>\n",
       "      <th>1</th>\n",
       "      <td>77874</td>\n",
       "      <td>Родник</td>\n",
       "      <td>нет</td>\n",
       "      <td>кафе</td>\n",
       "      <td>город Москва, улица Талалихина, дом 2/1, корпус 1</td>\n",
       "      <td>35</td>\n",
       "      <td>улица Талалихина</td>\n",
       "      <td>Таганский район</td>\n",
       "    </tr>\n",
       "    <tr>\n",
       "      <th>2</th>\n",
       "      <td>77874</td>\n",
       "      <td>Родник</td>\n",
       "      <td>нет</td>\n",
       "      <td>кафе</td>\n",
       "      <td>город Москва, улица Талалихина, дом 2/1, корпус 1</td>\n",
       "      <td>35</td>\n",
       "      <td>улица Талалихина</td>\n",
       "      <td>Нижегородский район</td>\n",
       "    </tr>\n",
       "    <tr>\n",
       "      <th>3</th>\n",
       "      <td>77874</td>\n",
       "      <td>Родник</td>\n",
       "      <td>нет</td>\n",
       "      <td>кафе</td>\n",
       "      <td>город Москва, улица Талалихина, дом 2/1, корпус 1</td>\n",
       "      <td>35</td>\n",
       "      <td>улица Талалихина</td>\n",
       "      <td>Район Южное Бутово</td>\n",
       "    </tr>\n",
       "    <tr>\n",
       "      <th>4</th>\n",
       "      <td>24309</td>\n",
       "      <td>Кафе «Академия»</td>\n",
       "      <td>нет</td>\n",
       "      <td>кафе</td>\n",
       "      <td>город Москва, Абельмановская улица, дом 6</td>\n",
       "      <td>95</td>\n",
       "      <td>Абельмановская улица</td>\n",
       "      <td>Таганский район</td>\n",
       "    </tr>\n",
       "  </tbody>\n",
       "</table>\n",
       "</div>"
      ],
      "text/plain": [
       "       id      object_name chain object_type  \\\n",
       "0  151635          СМЕТАНА   нет        кафе   \n",
       "1   77874           Родник   нет        кафе   \n",
       "2   77874           Родник   нет        кафе   \n",
       "3   77874           Родник   нет        кафе   \n",
       "4   24309  Кафе «Академия»   нет        кафе   \n",
       "\n",
       "                                             address  number  \\\n",
       "0         город Москва, улица Егора Абакумова, дом 9      48   \n",
       "1  город Москва, улица Талалихина, дом 2/1, корпус 1      35   \n",
       "2  город Москва, улица Талалихина, дом 2/1, корпус 1      35   \n",
       "3  город Москва, улица Талалихина, дом 2/1, корпус 1      35   \n",
       "4          город Москва, Абельмановская улица, дом 6      95   \n",
       "\n",
       "                  street                 area  \n",
       "0  улица Егора Абакумова    Ярославский Район  \n",
       "1       улица Талалихина      Таганский район  \n",
       "2       улица Талалихина  Нижегородский район  \n",
       "3       улица Талалихина   Район Южное Бутово  \n",
       "4   Абельмановская улица      Таганский район  "
      ]
     },
     "execution_count": 102,
     "metadata": {},
     "output_type": "execute_result"
    }
   ],
   "source": [
    "rest_data = rest_data.merge(street_data,on='street',how='left')\n",
    "rest_data['area'] = rest_data['area'].fillna('неизвестный')\n",
    "rest_data.head()"
   ]
  },
  {
   "cell_type": "markdown",
   "id": "9dffe6cd",
   "metadata": {},
   "source": [
    "Уберем дубликаты, образовавшиеся из-за пересечения длинными улицами нескольких районов:"
   ]
  },
  {
   "cell_type": "code",
   "execution_count": 103,
   "id": "1a6f2565",
   "metadata": {},
   "outputs": [
    {
     "name": "stdout",
     "output_type": "stream",
     "text": [
      "30105\n",
      "15196\n"
     ]
    }
   ],
   "source": [
    "print(len(rest_data))\n",
    "rest_data = rest_data.drop_duplicates(subset=['object_name', 'chain', 'object_type', 'address', 'number'])\n",
    "print(len(rest_data))"
   ]
  },
  {
   "cell_type": "markdown",
   "id": "2bc6a754",
   "metadata": {},
   "source": [
    "### 2.8. Построить график топ-10 улиц по количеству объектов общественного питания"
   ]
  },
  {
   "cell_type": "code",
   "execution_count": 104,
   "id": "cdb77bf3",
   "metadata": {},
   "outputs": [],
   "source": [
    "count_street = rest_data['street'].value_counts()#.reset_index()\n",
    "top10_street = count_street[0:10] "
   ]
  },
  {
   "cell_type": "code",
   "execution_count": 105,
   "id": "d4859f1d",
   "metadata": {},
   "outputs": [
    {
     "data": {
      "image/png": "[encoded data removed]",
      "text/plain": [
       "<Figure size 576x360 with 1 Axes>"
      ]
     },
     "metadata": {},
     "output_type": "display_data"
    }
   ],
   "source": [
    "top10_street.plot(kind='barh',grid=True,title='Количество заведений по улицам',figsize=(8,5))\n",
    "plt.ylabel('Наименование улицы, проспекта, шоссе')\n",
    "#plt.xticks(rotation = 90)\n",
    "plt.xlabel('Количество заведений')\n",
    "plt.show()"
   ]
  },
  {
   "cell_type": "code",
   "execution_count": 106,
   "id": "1a917a7f",
   "metadata": {},
   "outputs": [
    {
     "data": {
      "text/html": [
       "<div>\n",
       "<style scoped>\n",
       "    .dataframe tbody tr th:only-of-type {\n",
       "        vertical-align: middle;\n",
       "    }\n",
       "\n",
       "    .dataframe tbody tr th {\n",
       "        vertical-align: top;\n",
       "    }\n",
       "\n",
       "    .dataframe thead th {\n",
       "        text-align: right;\n",
       "    }\n",
       "</style>\n",
       "<table border=\"1\" class=\"dataframe\">\n",
       "  <thead>\n",
       "    <tr style=\"text-align: right;\">\n",
       "      <th></th>\n",
       "      <th></th>\n",
       "      <th>id</th>\n",
       "    </tr>\n",
       "    <tr>\n",
       "      <th>street</th>\n",
       "      <th>area</th>\n",
       "      <th></th>\n",
       "    </tr>\n",
       "  </thead>\n",
       "  <tbody>\n",
       "    <tr>\n",
       "      <th>город Зеленоград</th>\n",
       "      <th>Район Крюково</th>\n",
       "      <td>230</td>\n",
       "    </tr>\n",
       "    <tr>\n",
       "      <th>проспект Мира</th>\n",
       "      <th>Алексеевский район</th>\n",
       "      <td>197</td>\n",
       "    </tr>\n",
       "    <tr>\n",
       "      <th>Профсоюзная улица</th>\n",
       "      <th>Академический район</th>\n",
       "      <td>181</td>\n",
       "    </tr>\n",
       "    <tr>\n",
       "      <th>Ленинградский проспект</th>\n",
       "      <th>Район Аэропорт</th>\n",
       "      <td>172</td>\n",
       "    </tr>\n",
       "    <tr>\n",
       "      <th>Пресненская набережная</th>\n",
       "      <th>Пресненский район</th>\n",
       "      <td>165</td>\n",
       "    </tr>\n",
       "    <tr>\n",
       "      <th>Варшавское шоссе</th>\n",
       "      <th>Район Чертаново Центральное</th>\n",
       "      <td>161</td>\n",
       "    </tr>\n",
       "    <tr>\n",
       "      <th>Ленинский проспект</th>\n",
       "      <th>Район Проспект Вернадского</th>\n",
       "      <td>148</td>\n",
       "    </tr>\n",
       "    <tr>\n",
       "      <th>поселение Сосенское</th>\n",
       "      <th>неизвестный</th>\n",
       "      <td>138</td>\n",
       "    </tr>\n",
       "    <tr>\n",
       "      <th>проспект Вернадского</th>\n",
       "      <th>Район Проспект Вернадского</th>\n",
       "      <td>127</td>\n",
       "    </tr>\n",
       "    <tr>\n",
       "      <th>Кутузовский проспект</th>\n",
       "      <th>Район Дорогомилово</th>\n",
       "      <td>114</td>\n",
       "    </tr>\n",
       "  </tbody>\n",
       "</table>\n",
       "</div>"
      ],
      "text/plain": [
       "                                                     id\n",
       "street                 area                            \n",
       "город Зеленоград       Район Крюково                230\n",
       "проспект Мира          Алексеевский район           197\n",
       "Профсоюзная улица      Академический район          181\n",
       "Ленинградский проспект Район Аэропорт               172\n",
       "Пресненская набережная Пресненский район            165\n",
       "Варшавское шоссе       Район Чертаново Центральное  161\n",
       "Ленинский проспект     Район Проспект Вернадского   148\n",
       "поселение Сосенское    неизвестный                  138\n",
       "проспект Вернадского   Район Проспект Вернадского   127\n",
       "Кутузовский проспект   Район Дорогомилово           114"
      ]
     },
     "metadata": {},
     "output_type": "display_data"
    }
   ],
   "source": [
    "pivot_table_top = rest_data.pivot_table(index=['street','area'],values='id',aggfunc='count').sort_values(by='id',ascending=False)\n",
    "display(pivot_table_top.head(10))"
   ]
  },
  {
   "cell_type": "markdown",
   "id": "cc61db94",
   "metadata": {},
   "source": [
    "Промежуточный вывод: график с десятью улицами, на которых расположено наибольшее количество заведений общественного питания, построен.\n",
    "\n",
    "Все эти улицы связывают центр Москвы с пригородами, следовательно по ним происходит наибольший поток пассажиров.\n",
    "Эти улицы расположены в разных районах"
   ]
  },
  {
   "cell_type": "markdown",
   "id": "e68f6d4c",
   "metadata": {},
   "source": [
    "### 2.9. Отразить количество улиц с одним объектом общественного питанияи определить в каких районах они находятся"
   ]
  },
  {
   "cell_type": "code",
   "execution_count": 107,
   "id": "0c762f3a",
   "metadata": {},
   "outputs": [
    {
     "name": "stdout",
     "output_type": "stream",
     "text": [
      "Количество улиц с одним заведением: 541\n"
     ]
    },
    {
     "data": {
      "text/html": [
       "<div>\n",
       "<style scoped>\n",
       "    .dataframe tbody tr th:only-of-type {\n",
       "        vertical-align: middle;\n",
       "    }\n",
       "\n",
       "    .dataframe tbody tr th {\n",
       "        vertical-align: top;\n",
       "    }\n",
       "\n",
       "    .dataframe thead th {\n",
       "        text-align: right;\n",
       "    }\n",
       "</style>\n",
       "<table border=\"1\" class=\"dataframe\">\n",
       "  <thead>\n",
       "    <tr style=\"text-align: right;\">\n",
       "      <th></th>\n",
       "      <th></th>\n",
       "      <th>id</th>\n",
       "    </tr>\n",
       "    <tr>\n",
       "      <th>street</th>\n",
       "      <th>area</th>\n",
       "      <th></th>\n",
       "    </tr>\n",
       "  </thead>\n",
       "  <tbody>\n",
       "    <tr>\n",
       "      <th>Малый Толмачёвский переулок</th>\n",
       "      <th>Район Якиманка</th>\n",
       "      <td>1</td>\n",
       "    </tr>\n",
       "    <tr>\n",
       "      <th>Тенистый проезд</th>\n",
       "      <th>Район Свиблово</th>\n",
       "      <td>1</td>\n",
       "    </tr>\n",
       "    <tr>\n",
       "      <th>Театральная аллея</th>\n",
       "      <th>Район Аэропорт</th>\n",
       "      <td>1</td>\n",
       "    </tr>\n",
       "    <tr>\n",
       "      <th>Таёжная улица</th>\n",
       "      <th>Лосиноостровский район</th>\n",
       "      <td>1</td>\n",
       "    </tr>\n",
       "    <tr>\n",
       "      <th>Егорьевский проезд</th>\n",
       "      <th>Район Люблино</th>\n",
       "      <td>1</td>\n",
       "    </tr>\n",
       "    <tr>\n",
       "      <th>Тарханская улица</th>\n",
       "      <th>Район Выхино-Жулебино</th>\n",
       "      <td>1</td>\n",
       "    </tr>\n",
       "    <tr>\n",
       "      <th>Елоховский проезд</th>\n",
       "      <th>Басманный район</th>\n",
       "      <td>1</td>\n",
       "    </tr>\n",
       "    <tr>\n",
       "      <th>Тарусская улица</th>\n",
       "      <th>Район Ясенево</th>\n",
       "      <td>1</td>\n",
       "    </tr>\n",
       "    <tr>\n",
       "      <th>улица Сайкина</th>\n",
       "      <th>Даниловский район</th>\n",
       "      <td>1</td>\n",
       "    </tr>\n",
       "    <tr>\n",
       "      <th>улица Савельева</th>\n",
       "      <th>Район Хамовники</th>\n",
       "      <td>1</td>\n",
       "    </tr>\n",
       "  </tbody>\n",
       "</table>\n",
       "</div>"
      ],
      "text/plain": [
       "                                                    id\n",
       "street                      area                      \n",
       "Малый Толмачёвский переулок Район Якиманка           1\n",
       "Тенистый проезд             Район Свиблово           1\n",
       "Театральная аллея           Район Аэропорт           1\n",
       "Таёжная улица               Лосиноостровский район   1\n",
       "Егорьевский проезд          Район Люблино            1\n",
       "Тарханская улица            Район Выхино-Жулебино    1\n",
       "Елоховский проезд           Басманный район          1\n",
       "Тарусская улица             Район Ясенево            1\n",
       "улица Сайкина               Даниловский район        1\n",
       "улица Савельева             Район Хамовники          1"
      ]
     },
     "metadata": {},
     "output_type": "display_data"
    }
   ],
   "source": [
    "pivot_table_atop = rest_data.pivot_table(index=['street','area'],values='id',aggfunc='count').sort_values(by='id')\n",
    "small_street = pivot_table_atop[pivot_table_atop['id']==1]\n",
    "print('Количество улиц с одним заведением:',len(small_street))\n",
    "display(small_street.head(10))"
   ]
  },
  {
   "cell_type": "code",
   "execution_count": 108,
   "id": "f40a4ab4",
   "metadata": {},
   "outputs": [
    {
     "data": {
      "text/plain": [
       "Тверской район         90\n",
       "Пресненский район      83\n",
       "Таганский район        82\n",
       "неизвестный            73\n",
       "Басманный район        72\n",
       "Район Хамовники        62\n",
       "Район Замоскворечье    46\n",
       "Даниловский район      40\n",
       "Район Арбат            33\n",
       "Район Сокольники       33\n",
       "Name: area, dtype: int64"
      ]
     },
     "execution_count": 108,
     "metadata": {},
     "output_type": "execute_result"
    }
   ],
   "source": [
    "count_street_ = pivot_table_top.reset_index()\n",
    "count_street_ = count_street_['area'].value_counts()\n",
    "count_street_.head(10)"
   ]
  },
  {
   "cell_type": "markdown",
   "id": "89608af1",
   "metadata": {},
   "source": [
    "Промежуточный вывод: количество улиц с одним заведением общественного питания составляет 541. Судя на общедоступным данным, эти улицы расположены в разных районах Москвы (в том числе в центре), но все эти улицы очень короткие, буквально с несколькими домами. Больше всего коротких улиц с одним кафе именно в центральной (исторической) части города."
   ]
  },
  {
   "cell_type": "markdown",
   "id": "d5f62a93",
   "metadata": {},
   "source": [
    "## 3. Выводы\n",
    "\n",
    "* Открывать новое кафе целесообразно в местах с большим потоком людей, в том числе на центральных проспектах (по примеру указанных в исследовании улиц с наибольшим количеством заведений), но не ограничиваясь ими.\n",
    "* Идея с обслуживанием роботами-официантами будет иметь успех в перспективе в том случае, если внедряемое нововведение позволит снизить стоимость предоставляемой услуги за счет меньших затрат на зарплату или улучшить качество обслуживания (продукции).\n",
    "* Среди представленных типов заведений общественного питания более предпочтительными являются заведения, где количество посадочных мест не превышает 60 единиц, именно такие заведения получают распространение. \n",
    "* Для робот-кафе целесообразно использовать помещения с минимальным количеством мест (для снижения занимаемой площади и арендной платы). К таким видам заведений относятся, прежде всего, предприятия быстрого обслуживания (фастфуды) и кафе.\n",
    "* С учетом вышесказанного, может быть рассмотрен вариант открытия автоматизированных точек (по типу киосков) в стиле хай-тек со стеклянными стенами по продаже блинов с начинкой, поскольку процесс их приготовления легко автоматизируется, занимает мало места, и за счет отсутствия персонала их себестоимость будет минимальной, такие точки могут действительно держать конкуренцию по сравнению с другими заведениями, риски по возникновению критической ситуации с загрязнением мусором и отходами, с которыми не справятся роботы, минимальные."
   ]
  },
  {
   "cell_type": "markdown",
   "id": "3deed8eb",
   "metadata": {},
   "source": [
    "Презентация: https://disk.yandex.ru/i/Sfl1BFJMI6fKRg"
   ]
  },
  {
   "cell_type": "code",
   "execution_count": null,
   "id": "2f855968",
   "metadata": {},
   "outputs": [],
   "source": []
  }
 ],
 "metadata": {
  "kernelspec": {
   "display_name": "Python 3 (ipykernel)",
   "language": "python",
   "name": "python3"
  },
  "language_info": {
   "codemirror_mode": {
    "name": "ipython",
    "version": 3
   },
   "file_extension": ".py",
   "mimetype": "text/x-python",
   "name": "python",
   "nbconvert_exporter": "python",
   "pygments_lexer": "ipython3",
   "version": "3.9.12"
  }
 },
 "nbformat": 4,
 "nbformat_minor": 5
}
